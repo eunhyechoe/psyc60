{
  "nbformat": 4,
  "nbformat_minor": 0,
  "metadata": {
    "colab": {
      "provenance": [],
      "authorship_tag": "ABX9TyPIqMxpfbzLVJ9hCWNtqZp8",
      "include_colab_link": true
    },
    "kernelspec": {
      "name": "python3",
      "display_name": "Python 3"
    },
    "language_info": {
      "name": "python"
    }
  },
  "cells": [
    {
      "cell_type": "markdown",
      "metadata": {
        "id": "view-in-github",
        "colab_type": "text"
      },
      "source": [
        "<a href=\"https://colab.research.google.com/github/eunhyechoe/psyc60/blob/main/2_ISC.ipynb\" target=\"_parent\"><img src=\"https://colab.research.google.com/assets/colab-badge.svg\" alt=\"Open In Colab\"/></a>"
      ]
    },
    {
      "cell_type": "markdown",
      "source": [
        "#### **Lab Exercise, Principles of Human Brain Mapping with fMRI (FA24)**\n",
        "  \n",
        "# **2. Intersubject correlation (ISC) analysis**\n"
      ],
      "metadata": {
        "id": "DWPRUCtdwsm-"
      }
    }
  ]
}