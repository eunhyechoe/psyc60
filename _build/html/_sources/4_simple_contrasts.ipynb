{
  "nbformat": 4,
  "nbformat_minor": 0,
  "metadata": {
    "colab": {
      "provenance": [],
      "authorship_tag": "ABX9TyOlu3/DRatdqrFb3BTw7klQ",
      "include_colab_link": true
    },
    "kernelspec": {
      "name": "python3",
      "display_name": "Python 3"
    },
    "language_info": {
      "name": "python"
    }
  },
  "cells": [
    {
      "cell_type": "markdown",
      "metadata": {
        "id": "view-in-github",
        "colab_type": "text"
      },
      "source": [
        "<a href=\"https://colab.research.google.com/github/eunhyechoe/psyc60/blob/main/4_simple_contrasts.ipynb\" target=\"_parent\"><img src=\"https://colab.research.google.com/assets/colab-badge.svg\" alt=\"Open In Colab\"/></a>"
      ]
    },
    {
      "cell_type": "markdown",
      "source": [
        "#### **Lab Exercise, Principles of Human Brain Mapping with fMRI (FA24)**\n",
        "  \n",
        "# **4. Simple Contrast for Localizer Task**\n"
      ],
      "metadata": {
        "id": "DWPRUCtdwsm-"
      }
    }
  ]
}