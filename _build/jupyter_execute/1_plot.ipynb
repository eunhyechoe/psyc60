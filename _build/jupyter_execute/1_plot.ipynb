{
 "cells": [
  {
   "cell_type": "markdown",
   "id": "08cfc3a8-d359-43d8-9f5a-e623f94eebe7",
   "metadata": {},
   "source": [
    "#### Lab Exercise\n",
    "#### Principles of Human Brain Mapping with fMRI (FA24)\n",
    "# 1. Plot time-series, response patterns, and functional connectivity profiles"
   ]
  },
  {
   "cell_type": "code",
   "execution_count": null,
   "id": "889199c7-7864-4f23-bad7-111031163163",
   "metadata": {},
   "outputs": [],
   "source": []
  },
  {
   "cell_type": "code",
   "execution_count": null,
   "id": "584585c6-9428-44da-9d45-a7bf08f1c945",
   "metadata": {},
   "outputs": [],
   "source": []
  },
  {
   "cell_type": "code",
   "execution_count": null,
   "id": "b4a517b3-fbed-4d9c-ab1a-e1f506ff00aa",
   "metadata": {},
   "outputs": [],
   "source": []
  }
 ],
 "metadata": {
  "kernelspec": {
   "display_name": "Python 3 (ipykernel)",
   "language": "python",
   "name": "python3"
  },
  "language_info": {
   "codemirror_mode": {
    "name": "ipython",
    "version": 3
   },
   "file_extension": ".py",
   "mimetype": "text/x-python",
   "name": "python",
   "nbconvert_exporter": "python",
   "pygments_lexer": "ipython3",
   "version": "3.9.13"
  }
 },
 "nbformat": 4,
 "nbformat_minor": 5
}